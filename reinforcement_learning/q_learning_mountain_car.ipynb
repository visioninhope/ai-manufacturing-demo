{
 "cells": [
  {
   "cell_type": "markdown",
   "id": "28fbead8-3853-4b45-b26f-6d06d15478fe",
   "metadata": {},
   "source": [
    "# Mountain car\n",
    "小车在受重力影响的山谷中, 到达旗帜则算成功, 可参考教学https://www.jiqizhixin.com/articles/2018-04-17-3"
   ]
  },
  {
   "cell_type": "code",
   "execution_count": 1,
   "id": "7f09fbb2-70ac-4e49-b43d-b6457fc259ba",
   "metadata": {},
   "outputs": [
    {
     "data": {
      "text/html": [
       "<img src=\"../image/mountain_car.png\" width=\"400\" height=\"300\" alt=\"Mountain Car\"/>"
      ],
      "text/plain": [
       "<IPython.core.display.HTML object>"
      ]
     },
     "metadata": {},
     "output_type": "display_data"
    }
   ],
   "source": [
    "from IPython.display import display, HTML\n",
    "\n",
    "# Create an HTML img tag to display the image with a set width and height\n",
    "image_html = '<img src=\"../image/mountain_car.png\" width=\"400\" height=\"300\" alt=\"Mountain Car\"/>'\n",
    "\n",
    "# Use IPython.display to show the image\n",
    "display(HTML(image_html))"
   ]
  },
  {
   "cell_type": "code",
   "execution_count": 7,
   "id": "bc9de21d-07be-42e4-934f-9aeb60ec1753",
   "metadata": {},
   "outputs": [
    {
     "name": "stdout",
     "output_type": "stream",
     "text": [
      "动作: Discrete(3)\n",
      "x轴最大值和速度最大值: [0.6  0.07]\n",
      "x轴最小值和速度最小值: [-1.2  -0.07]\n",
      "离散观测结果集合为[20, 20]的二维数组\n",
      "每两个临近状态之间的差值: [0.09  0.007]\n",
      "Q表维度: (20, 20, 3)\n"
     ]
    }
   ],
   "source": [
    "import gym\n",
    "import numpy as np\n",
    "import pandas as pd\n",
    "import time\n",
    "\n",
    "env = gym.make(\"MountainCar-v0\", render_mode=\"rgb_array\")\n",
    "\n",
    "# 有三种离散动作: 向左, 不动, 向右\n",
    "print(f\"动作: {env.action_space}\")\n",
    "# 观测中第一个元素是x轴坐标, 第二个元素是小车速度\n",
    "print(f\"x轴最大值和速度最大值: {env.observation_space.high}\")\n",
    "print(f\"x轴最小值和速度最小值: {env.observation_space.low}\")\n",
    "\n",
    "CHUNK_SIZE = 20\n",
    "DISCRETE_OBSERVATION_SPACE_SIZE = [CHUNK_SIZE] * len(env.observation_space.high)\n",
    "print(f\"离散观测结果集合为{DISCRETE_OBSERVATION_SPACE_SIZE}的二维数组\")\n",
    "discrete_os_win_size = (env.observation_space.high - env.observation_space.low) / DISCRETE_OBSERVATION_SPACE_SIZE\n",
    "print(f\"每两个临近状态之间的差值: {discrete_os_win_size}\")\n",
    "\n",
    "# 学习率 α\n",
    "LEARNING_RATE = 0.1\n",
    "# 衰退因子 γ\n",
    "GAMMA = 0.95\n",
    "# 贪心算法的ε\n",
    "EPSILON = 0.1\n",
    "# 训练周期\n",
    "EPISODES = 500\n",
    "\n",
    "# 初始q表, 随机填入-2到0之间的值\n",
    "q_table_size = DISCRETE_OBSERVATION_SPACE_SIZE + [env.action_space.n]\n",
    "q_table = np.random.uniform(low=-2, high=0, size=q_table_size)\n",
    "print(f\"Q表维度: {q_table.shape}\")"
   ]
  },
  {
   "cell_type": "code",
   "execution_count": 3,
   "id": "b8a0ba3b-4232-45ed-804e-ad058c1f79bd",
   "metadata": {},
   "outputs": [
    {
     "name": "stdout",
     "output_type": "stream",
     "text": [
      "初始位置[-0.4452088  0.       ]\n",
      "初始状态(8, 10)\n"
     ]
    }
   ],
   "source": [
    "def get_discrete_state(state):\n",
    "    discrete_state = ((state - env.observation_space.low) / discrete_os_win_size).astype(int)\n",
    "    # 确保第一个元素(位置)的取值在 0 到 (DISCRETE_OBSERVATION_SPACE_SIZE - 1) 之间, 因为有时小车的惯性会超出边界\n",
    "    discrete_state[0] = np.clip(discrete_state[0], 0, CHUNK_SIZE - 1)\n",
    "    return tuple(discrete_state)\n",
    "\n",
    "initial_observation, _ = env.reset(seed=42)\n",
    "# 第一个元素为位置状态(共20个), 第二个元素为速度状态(共20个)\n",
    "print(f\"初始位置{initial_observation}\")\n",
    "discrete_state = get_discrete_state(initial_observation)\n",
    "print(f\"初始状态{discrete_state}\")"
   ]
  },
  {
   "cell_type": "code",
   "execution_count": null,
   "id": "c23ac392-f8a6-4973-be14-53ca72cc0eb3",
   "metadata": {},
   "outputs": [],
   "source": [
    "import time\n",
    "from gym.wrappers.monitoring.video_recorder import VideoRecorder\n",
    "\n",
    "# 刚开始非常慢, 第一回合或许会花费几分钟, 但是只要成功一次, 就会形成雪球效应越来越快\n",
    "for ep in range(EPISODES):\n",
    "    # 每回合都要重置\n",
    "    terminated = False\n",
    "    initial_observation, _ = env.reset(seed=42)\n",
    "    discrete_state = get_discrete_state(initial_observation)\n",
    "    # 记录开始时间\n",
    "    start_time = time.time()\n",
    "    # 在第?回合收集画面\n",
    "    if ep in [0, 499]:\n",
    "        render = True\n",
    "        file_path = f\"../video/mountain_car_ep{ep}.mp4\"\n",
    "        video = VideoRecorder(env, file_path)\n",
    "    else:\n",
    "        render = False\n",
    "        video.close()\n",
    "        env.close()\n",
    "\n",
    "    while not terminated:\n",
    "        if np.random.random() > EPSILON:\n",
    "            # 0是向左, 1是不动, 2是向右\n",
    "            action = np.argmax(q_table[discrete_state])\n",
    "        # 有一定几率进行随机选择而非最优解, 用于跳出局部最优, EPSILON越大则这个几率越大\n",
    "        else:\n",
    "            action = np.random.randint(0, env.action_space.n)\n",
    "        new_state, reward, terminated, _, _ = env.step(action)\n",
    "        new_discrete_state = get_discrete_state(new_state)\n",
    "        if render:\n",
    "            env.render()\n",
    "            video.capture_frame()\n",
    "        if not terminated:\n",
    "            # max q value for the next state calculated above\n",
    "            max_future_q = np.max(q_table[new_discrete_state])\n",
    "            # q value for the current action and state\n",
    "            current_q = q_table[discrete_state + (action, )]\n",
    "            new_q = current_q + LEARNING_RATE * (reward + GAMMA * max_future_q - current_q)\n",
    "            # 更新q表\n",
    "            q_table[discrete_state + (action, )] = new_q\n",
    "        # 到达目标地点, 奖励设置为0\n",
    "        elif new_state[0] >= env.goal_position:\n",
    "            end_time = time.time()\n",
    "            print(f\"在{ep}回合到达目标地点, 用时{(end_time - start_time):.2f}s\")\n",
    "            q_table[discrete_state + (action, )] = 0\n",
    "        discrete_state = new_discrete_state\n",
    "video.close()\n",
    "env.close()"
   ]
  }
 ],
 "metadata": {
  "kernelspec": {
   "display_name": "Python 3 (ipykernel)",
   "language": "python",
   "name": "python3"
  },
  "language_info": {
   "codemirror_mode": {
    "name": "ipython",
    "version": 3
   },
   "file_extension": ".py",
   "mimetype": "text/x-python",
   "name": "python",
   "nbconvert_exporter": "python",
   "pygments_lexer": "ipython3",
   "version": "3.10.12"
  }
 },
 "nbformat": 4,
 "nbformat_minor": 5
}
